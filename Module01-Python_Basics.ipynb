{
  "cells": [
    {
      "cell_type": "markdown",
      "metadata": {
        "id": "xzcc7xNo7wmj"
      },
      "source": [
        "# Python Basics"
      ]
    },
    {
      "cell_type": "markdown",
      "metadata": {
        "id": "bS0SCZbcfWpU"
      },
      "source": [
        "* Our first Python program."
      ]
    },
    {
      "cell_type": "code",
      "execution_count": null,
      "metadata": {
        "id": "192iJLdt7fOG"
      },
      "outputs": [],
      "source": [
        "print('Hello World')"
      ]
    },
    {
      "cell_type": "markdown",
      "metadata": {
        "id": "AX-4OAA3aWjx"
      },
      "source": [
        "* The following program defines several variables of different types of data and displays them as output.\n"
      ]
    },
    {
      "cell_type": "code",
      "execution_count": null,
      "metadata": {
        "id": "ccWL_AnbbvGA"
      },
      "outputs": [],
      "source": [
        "# amount is an int\n",
        "amount = 2\n",
        "# price is a float\n",
        "price = 1.99\n",
        "# name is a str\n",
        "name = 'Widget'\n",
        "# in_stock is a bool (True or False)\n",
        "in_stock = True\n",
        "\n",
        "# Output the results to the console with a comma-separated list of items.\n",
        "# The strings are quoted and the unquoted elements are the names of the variable we just defined\n",
        "print('Amount:', amount, \"Price:\", price, \"\"\"Total:\"\"\", amount * price)\n"
      ]
    },
    {
      "cell_type": "markdown",
      "metadata": {
        "id": "O6Lc2kaVLYYf"
      },
      "source": [
        "* A better way is to use a formatted string to make it easier. The <font color='blue' face=\"Courier New\" size=\"+2\">f</font> at the beginning of the opening quote tells it to use formatting; the values between the curly braces inject the values of the variable.\n"
      ]
    },
    {
      "cell_type": "code",
      "execution_count": null,
      "metadata": {
        "id": "fZwRL97acNbk"
      },
      "outputs": [],
      "source": [
        "print(f'Amount: {amount} Price: {price} Total: {amount * price}')"
      ]
    },
    {
      "cell_type": "markdown",
      "metadata": {
        "id": "mV0fURPROIfp"
      },
      "source": [
        "* <font color='blue' face=\"Courier New\" size=\"+1\">if</font> starts a new code block; the colon indicates the next lines should be indented.\n",
        "* If the condition is <font color='blue' face=\"Courier New\" size=\"+1\">True</font>, the first block will run, otherwise, if it is <font color='blue' face=\"Courier New\" size=\"+1\">False</font>, it will run the second block after the else.\n"
      ]
    },
    {
      "cell_type": "code",
      "execution_count": null,
      "metadata": {
        "id": "797LgCXQdPAi"
      },
      "outputs": [],
      "source": [
        "if in_stock:\n",
        "  # these are indented to indicate they are within the if block\n",
        "  print(name, 'is in stock')\n",
        "  print('Amount:', amount, \"Price:\", price, \"\"\"Total:\"\"\", amount * price)\n",
        "else:\n",
        "  # this is indented to the same level as the previous block but belongs to the else block\n",
        "  print(name, 'is not in stock')\n",
        "\n"
      ]
    },
    {
      "cell_type": "markdown",
      "metadata": {
        "id": "mK3OV5QVelL5"
      },
      "source": [
        "## Try it now: ##\n",
        "#### 1.\tDefine a variable called <font color='blue' face=\"Courier New\" size=\"+1\">name</font> and set it to your name.\n",
        "#### 2.\tDefine a variable called <font color='blue' face=\"Courier New\" size=\"+1\">year</font> and set it to the year you were born.\n",
        "#### 3.\tDefine a variable called <font color='blue' face=\"Courier New\" size=\"+1\">age</font> and set it equal to year 2024 - year.\n",
        "#### 4. Use a print statement to say <font color='blue' face=\"Courier New\" size=\"+1\">\"Hello {name} you are {age} years old.\"</font>\n",
        "<br>\n",
        "<details><summary>Click for <b>hint</b></summary>\n",
        "<p>\n",
        "1.\tStart in the code cell below this and type <font color='blue' face=\"Courier New\" size=\"+1\">name = ''</font> and put your name in between the quotes.\n",
        "<br>\n",
        "2.\tOn the next line, type <font color='blue' face=\"Courier New\" size=\"+1\">year = ''</font> and put your birth year but not in quotes.\n",
        "<br>\n",
        "3.\tOn the next line, type <font color='blue' face=\"Courier New\" size=\"+1\">age = 2024 - year</font>.\n",
        "<br>\n",
        "4.\tOn the next line <font color='blue' face=\"Courier New\" size=\"+1\">print(f'')</font> and type what you want to display, but put the variables for name and age inside <font color='blue' face=\"Courier New\" size=\"+1\">{}</font>.\n",
        "<br>\n",
        "<br>\n",
        "</p>\n",
        "</details>\n",
        "\n",
        "<details><summary>Click for <b>code</b></summary>\n",
        "<p>\n",
        "\n",
        "```python\n",
        "name = 'Joey'\n",
        "year = 1965\n",
        "age = 2024 - year\n",
        "print(f'Hello {name}, you are {age} years old.')\n",
        "```\n",
        "</p>\n",
        "</details>"
      ]
    },
    {
      "cell_type": "code",
      "execution_count": null,
      "metadata": {
        "id": "ZmuiTcY0eYmf"
      },
      "outputs": [],
      "source": []
    },
    {
      "cell_type": "markdown",
      "metadata": {
        "id": "ggY5-CH8Okw7"
      },
      "source": [
        "* <font color='blue' face=\"Courier New\" size=\"+1\">input</font> is another function that is useful.\n",
        "* It asks the user a question and returns the result into a variable."
      ]
    },
    {
      "cell_type": "code",
      "execution_count": null,
      "metadata": {
        "id": "jIurdtj5jX4l"
      },
      "outputs": [],
      "source": [
        "name = input('Enter your name? ')\n",
        "print(f'Hello {name}, your name is {len(name)} characters long!')"
      ]
    },
    {
      "cell_type": "markdown",
      "metadata": {
        "id": "oUy7v_rCNxc9"
      },
      "source": [
        "* Functions are saved blocks of code that have a name, take some parameters, and return a value.\n",
        "* There are many built-in functions.\n"
      ]
    },
    {
      "cell_type": "code",
      "execution_count": null,
      "metadata": {
        "id": "ubl5Abkk60KU"
      },
      "outputs": [],
      "source": [
        "print(len('abcde'))\n",
        "print(abs(-10))"
      ]
    },
    {
      "cell_type": "markdown",
      "metadata": {
        "id": "f123G8ytO6Yt"
      },
      "source": [
        "* Let's use a simple <font color='blue' face=\"Courier New\" size=\"+1\">if</font> statement to do something different based on what the user enters."
      ]
    },
    {
      "cell_type": "code",
      "execution_count": null,
      "metadata": {
        "id": "PsQecRPyj0TW"
      },
      "outputs": [],
      "source": [
        "name = input('Enter your name? ')\n",
        "if len(name) <= 4:\n",
        "  print(f'{name}, your name if short.')\n",
        "else:\n",
        "  print(f'{name}, your name is long.')\n",
        "# Sometimes, we want to repeat a process multiple times, so Python has several ways to do this.\n",
        "# In general, these are called loops.\n"
      ]
    },
    {
      "cell_type": "markdown",
      "metadata": {
        "id": "awIaF5X9PUJ4"
      },
      "source": [
        "* Sometimes we want to repeat a process multiple times, so Python has several ways to do this.\n",
        "* In general, these are called loops.\n",
        "* It's kind of like an <font color='blue' face=\"Courier New\" size=\"+1\">if</font> statement that says run the indented block if the condition is <font color='blue' face=\"Courier New\" size=\"+1\">True</font>\n",
        "but then it goes back to the top of the <font color='blue' face=\"Courier New\" size=\"+1\">while</font> loop and tries it again and again until the condition is <font color='blue' face=\"Courier New\" size=\"+1\">False</font>\n",
        "* Be careful, we need to make sure that we do something inside the loop that eventually makes the condition <font color='blue' face=\"Courier New\" size=\"+1\">False</font> or we end up with an infinite loop."
      ]
    },
    {
      "cell_type": "code",
      "execution_count": null,
      "metadata": {
        "id": "P1eO-nAXkagA"
      },
      "outputs": [],
      "source": [
        "x = 10\n",
        "while x > 0:\n",
        "  print(x)\n",
        "  x = x - 1\n"
      ]
    },
    {
      "cell_type": "markdown",
      "metadata": {
        "id": "_r5kDbWTP7UR"
      },
      "source": [
        "* Another way to loop is to use a <font color='blue' face=\"Courier New\" size=\"+1\">for</font> statement.\n",
        "* This will loop through each element in a range or collection (more about that later).\n"
      ]
    },
    {
      "cell_type": "code",
      "execution_count": null,
      "metadata": {
        "id": "VcwWxba8lCV_"
      },
      "outputs": [],
      "source": [
        "for x in range(10):\n",
        "  print(x)\n"
      ]
    },
    {
      "cell_type": "markdown",
      "metadata": {
        "id": "Eb6_6A-NQOxW"
      },
      "source": [
        "* The <font color='blue' face=\"Courier New\" size=\"+1\">range</font> function generates values between 0 and 9; it goes up to but does not include 10.\n",
        "* The following code would print values between 1 and 10.\n"
      ]
    },
    {
      "cell_type": "code",
      "execution_count": null,
      "metadata": {
        "id": "tWlxNDJrlVnC"
      },
      "outputs": [],
      "source": [
        "for x in range(1, 11):\n",
        "  print(x)"
      ]
    },
    {
      "cell_type": "markdown",
      "metadata": {
        "id": "s8RrBO_8asXg"
      },
      "source": [
        "* The <font color='blue' face=\"Courier New\" size=\"+1\">help</font> function can be useful to get details on how functions work."
      ]
    },
    {
      "cell_type": "code",
      "execution_count": null,
      "metadata": {
        "id": "Bj0lkYk-nZwF"
      },
      "outputs": [],
      "source": [
        "help(range)"
      ]
    },
    {
      "cell_type": "markdown",
      "metadata": {
        "id": "4wwQP-H_n7gD"
      },
      "source": [
        "## Try it now: ##\n",
        "#### Based on what you learned from getting help on range, can you write a loop that counts down from 5 to 1?\n",
        "<br>\n",
        "<details><summary>Click for <b>hint</b></summary>\n",
        "<p>\n",
        "Use -1 for the step parameter by supplying a third value inside the parentheses.\n",
        "</p>\n",
        "</details>\n",
        "\n",
        "<details><summary>Click for <b>code</b></summary>\n",
        "<p>\n",
        "\n",
        "```python\n",
        "for x in range(5, 0, -1):\n",
        "  print(x)\n",
        "```\n",
        "</p>\n",
        "</details>"
      ]
    },
    {
      "cell_type": "markdown",
      "metadata": {
        "id": "mORQvUH1QhqO"
      },
      "source": [
        "* Sometimes, functions are in another module, so to load that module into memory we use the <font color='blue' face=\"Courier New\" size=\"+1\">import</font> command.\n"
      ]
    },
    {
      "cell_type": "code",
      "execution_count": null,
      "metadata": {
        "id": "ekHqc8uy7vBF"
      },
      "outputs": [],
      "source": [
        "import math\n",
        "print(math.sin(90))"
      ]
    },
    {
      "cell_type": "markdown",
      "metadata": {
        "id": "e0y54jZFStTU"
      },
      "source": [
        "* Some functions are built into the variables directly; we usually call these <font color='blue'>methods</font>.\n"
      ]
    },
    {
      "cell_type": "code",
      "execution_count": null,
      "metadata": {
        "id": "ZBwERLGK9TpF"
      },
      "outputs": [],
      "source": [
        "name = 'Han Solo'\n",
        "print(name.upper(), name.lower(), name.replace(' ', '-'))"
      ]
    },
    {
      "cell_type": "markdown",
      "metadata": {
        "id": "xZxIigC4S8o2"
      },
      "source": [
        "* Let's put it all together and make a complete program."
      ]
    },
    {
      "cell_type": "code",
      "execution_count": null,
      "metadata": {
        "id": "883uLTiIosp8"
      },
      "outputs": [],
      "source": [
        "import random\n",
        "\n",
        "print('Welcome to our little program.')\n",
        "name = input('Enter your name? ')\n",
        "play = True\n",
        "tries = 0\n",
        "correct = 0\n",
        "\n",
        "while play:\n",
        "  number1 = random.randint(1, 10)\n",
        "  number2 = random.randint(1, 10)\n",
        "  correct_answer = number1 + number2\n",
        "  answer = input(f'What is {number1} + {number2} = ')\n",
        "  answer = int(answer)\n",
        "  tries = tries + 1\n",
        "  if answer == correct_answer:\n",
        "    correct += 1\n",
        "    print(f'Good job {name}! You got {correct} out of {tries} right for a score of {100 * correct/tries:.0f}.')\n",
        "  else:\n",
        "    print(f'Sorry {name}. The answer is {correct_answer}. You got {correct} out of {tries} right for a score of {100 * correct/tries:.0f}.')\n",
        "\n",
        "  again = input('Do you want to play again? (Y/N)? ')\n",
        "  if again.upper() == 'N':\n",
        "    play = False\n",
        "\n"
      ]
    },
    {
      "cell_type": "markdown",
      "metadata": {
        "id": "hpxj5E-Yq-BU"
      },
      "source": [
        "## Challenge for later: ##\n",
        "#### Improve the program by having it randomly ask an addition or subtraction problem.\n",
        "<br>\n",
        "<details><summary>Click for <b>hint</b></summary>\n",
        "<p>\n",
        "Make another variable to create a random number between 1 and 2. If it's 1, do addition. If it's 2, subtraction.\n",
        "<br>\n",
        "Use an <font color='blue' face=\"Courier New\" size=\"+1\">if</font> block to display and calculate the question and answer properly.\n",
        "</p>\n",
        "</details>\n",
        "\n",
        "<details><summary>Click for <b>code</b></summary>\n",
        "<p>\n",
        "\n",
        "```python\n",
        "import random\n",
        "\n",
        "print('Welcome to our little program.')\n",
        "name = input('Enter your name? ')\n",
        "play = True\n",
        "tries = 0\n",
        "correct = 0\n",
        "\n",
        "while play:\n",
        "  number1 = random.randint(1, 10)\n",
        "  number2 = random.randint(1, 10)\n",
        "  \n",
        "  operation = random.randint(1,2)\n",
        "  if operation == 1:\n",
        "    correct_answer = number1 + number2\n",
        "    answer = input(f'What is {number1} + {number2} = ')\n",
        "  else:\n",
        "    correct_answer = number1 - number2\n",
        "    answer = input(f'What is {number1} - {number2} = ')\n",
        "\n",
        "  answer = int(answer)\n",
        "  tries = tries + 1\n",
        "  if answer == correct_answer:\n",
        "    correct += 1\n",
        "    print(f'Good job {name}! You got {correct} out of {tries} right for a score of {100 * correct/tries:.0f}.')  \n",
        "  else:\n",
        "    print(f'Sorry {name}. The answer is {correct_answer}. You got {correct} out of {tries} right for a score of {100 * correct/tries:.0f}.')  \n",
        "\n",
        "  again = input('Do you want to play again? (Y/N)? ')\n",
        "  if again.upper() == 'N':\n",
        "    play = False\n",
        "```\n",
        "</p>\n",
        "</details>"
      ]
    },
    {
      "cell_type": "code",
      "execution_count": null,
      "metadata": {
        "id": "DUvCSo01ryUQ"
      },
      "outputs": [],
      "source": []
    },
    {
      "cell_type": "markdown",
      "metadata": {
        "id": "wB0TY5hxRHFy"
      },
      "source": [
        "* Sometimes, <font color='blue' face=\"Courier New\" size=\"+1\">if</font> conditions can get complicated, so we can combine multiple conditions with <font color='blue' face=\"Courier New\" size=\"+1\">and</font> and <font color='blue' face=\"Courier New\" size=\"+1\">or</font> and use <font color='blue' face=\"Courier New\" size=\"+1\">elif</font>\n"
      ]
    },
    {
      "cell_type": "code",
      "execution_count": null,
      "metadata": {
        "id": "a1vlQN0W6JJx"
      },
      "outputs": [],
      "source": [
        "x = 10\n",
        "y = 20\n",
        "if x == 10 and y >= 20:\n",
        "  print('One')\n",
        "elif x < 10 or y <= 20:\n",
        "  print('Two')\n",
        "else:\n",
        "  print('Three')\n",
        "\n"
      ]
    },
    {
      "cell_type": "markdown",
      "metadata": {
        "id": "CSj9hwFzRbie"
      },
      "source": [
        "\n",
        "* We can write our own functions to save some complex logic into a named block and reuse it.\n",
        "* We define a function with the <font color='blue' face=\"Courier New\" size=\"+1\">def</font> statement.\n",
        "* Functions take parameters (input values) that are like variables and allow us to pass values into the function when we call it."
      ]
    },
    {
      "cell_type": "code",
      "execution_count": null,
      "metadata": {
        "id": "RjlfcstQ895z"
      },
      "outputs": [],
      "source": [
        "def square(x):\n",
        "  return x * x\n",
        "\n",
        "# The following tests the function to see if it worked\n",
        "# Note that it is not indented, so it's not contained in the body of the function definition\n",
        "print(square(10))"
      ]
    },
    {
      "cell_type": "markdown",
      "metadata": {
        "id": "-hFgsZU9SAKo"
      },
      "source": [
        "\n",
        "* Here's a function that takes two parameters.\n",
        "* Note that both are required when we call the function, and if we leave one out, it will give us an error.\n"
      ]
    },
    {
      "cell_type": "code",
      "execution_count": null,
      "metadata": {
        "id": "C-U74ZA4-Lk7"
      },
      "outputs": [],
      "source": [
        "def rectangle(x, y):\n",
        "  return x * y\n",
        "\n",
        "print(rectangle(10, 20))"
      ]
    },
    {
      "cell_type": "markdown",
      "metadata": {
        "id": "wb52Dn2iSJbd"
      },
      "source": [
        "* We can make parameters optional by assigning them a default value when we declare the function.\n",
        "* Then, if we don't supply a value, it uses the default.\n",
        "* If we do supply a value, it overrides the default with what we supply.\n"
      ]
    },
    {
      "cell_type": "code",
      "execution_count": null,
      "metadata": {
        "id": "q6uFTd4M-P1I"
      },
      "outputs": [],
      "source": [
        "def rectangle(x, y = 1):\n",
        "  return x * y\n",
        "\n",
        "print(rectangle(10))"
      ]
    },
    {
      "cell_type": "code",
      "execution_count": null,
      "metadata": {
        "id": "Jr7tGpTP-vk4"
      },
      "outputs": [],
      "source": [
        "print(rectangle(x = 2, y = 3))"
      ]
    },
    {
      "cell_type": "markdown",
      "metadata": {
        "id": "sSZnoUD2_HFv"
      },
      "source": [
        "## Try it now: ##\n",
        "#### The code block below defines a function to calculate the volume of a cuboid. Call it by passing just an x value, or an x and y value, and then just an x and z value.\n",
        "<br>\n",
        "<details><summary>Click for <b>hint</b></summary>\n",
        "<p>\n",
        "For the first two, you can use the positions to pass the values.\n",
        "For the third one though, you would need to use names of the parameters to pass them in.<br>\n",
        "</p>\n",
        "</details>\n",
        "\n",
        "<details><summary>Click for <b>code</b></summary>\n",
        "<p>\n",
        "\n",
        "```python\n",
        "def cuboid(x = 1, y = 2, z = 3):\n",
        "  return x * y * z\n",
        "\n",
        "print(cuboid(2))\n",
        "print(cuboid(2, 3))\n",
        "print(cuboid(2, z = 4))\n",
        "```\n",
        "</p>\n",
        "</details>"
      ]
    },
    {
      "cell_type": "code",
      "execution_count": null,
      "metadata": {
        "id": "DCB0QQqD_1LO"
      },
      "outputs": [],
      "source": [
        "def cuboid(x = 1, y = 2, z = 3):\n",
        "  return x * y * z\n",
        "\n"
      ]
    },
    {
      "cell_type": "markdown",
      "metadata": {
        "id": "9vS1tLjnTasu"
      },
      "source": [
        "* There are already a lot of functions defined, you just have to find them in either a built-in Python module or sometimes, you need to download and install a module from the internet or another team in our organization.\n",
        "\n",
        "* The <font color='blue' face=\"Courier New\" size=\"+1\">os</font> module is a standard part of Python so we can just import it.\n",
        "* It has a lot of functions to interact with the operating system."
      ]
    },
    {
      "cell_type": "code",
      "execution_count": null,
      "metadata": {
        "id": "nihfRq7RAWnZ"
      },
      "outputs": [],
      "source": [
        "import os\n",
        "print(os.getcwd())\n",
        "os.mkdir('newfolder')\n",
        "print(os.listdir(os.getcwd()))\n"
      ]
    },
    {
      "cell_type": "markdown",
      "metadata": {
        "id": "gjnQl_CDT84M"
      },
      "source": [
        "* Nobody remembers every function and module so a lot of the time we either use the Python <font color='blue' face=\"Courier New\" size=\"+1\">help</font>  function, look it up on the internet, or use AI to help find what we're looking for.\n",
        "* Let's try the AI option. Click the <font color='blue'>Generate</font> button on the cell below.\n",
        "* Click the generate link in the code block below and enter the following: <font color='blue'>write python code to check if a folder exists</font>"
      ]
    },
    {
      "cell_type": "code",
      "execution_count": null,
      "metadata": {
        "id": "TFyUwkZSca5X"
      },
      "outputs": [],
      "source": []
    },
    {
      "cell_type": "markdown",
      "metadata": {
        "id": "iAZr0JhzVqzp"
      },
      "source": [
        "* This code checks if a folder exists and if not, creates it in the current working folder."
      ]
    },
    {
      "cell_type": "code",
      "execution_count": null,
      "metadata": {
        "id": "3uAJYdvJCEcl"
      },
      "outputs": [],
      "source": [
        "import os\n",
        "print(os.getcwd())\n",
        "if not os.path.exists('newfolder'):\n",
        "  os.mkdir('newfolder')\n",
        "\n",
        "print(os.listdir(os.getcwd()))\n"
      ]
    },
    {
      "cell_type": "markdown",
      "metadata": {
        "id": "zG70TkwkVxtN"
      },
      "source": [
        "* This code goes through every file in a folder but only shows it if it's a CSV file."
      ]
    },
    {
      "cell_type": "code",
      "execution_count": null,
      "metadata": {
        "id": "rTLdlxszCknU"
      },
      "outputs": [],
      "source": [
        "for file in os.listdir():\n",
        "  if file.endswith('.csv'):\n",
        "    print(file)"
      ]
    },
    {
      "cell_type": "markdown",
      "metadata": {
        "id": "XpFmJy6uUkV9"
      },
      "source": [
        "* There are already a lot of functions defined, you just have to find them in either a built-in Python module or sometimes, you need to download and install a module from the internet or another team in your organization.\n",
        "* <a href=\"http://pypi.org\">PyPi</a> is a website that hosts a lot of open-source packages.\n",
        "* Some are commonly used by everyone, others can be just a personal project someone posted.\n",
        "* Be careful and make sure you understand what you're downloading.\n"
      ]
    },
    {
      "cell_type": "code",
      "execution_count": null,
      "metadata": {
        "id": "cbOxNf8GDXyw"
      },
      "outputs": [],
      "source": [
        "! pip install converterpro"
      ]
    },
    {
      "cell_type": "code",
      "execution_count": null,
      "metadata": {
        "id": "2loQXs99DmnO"
      },
      "outputs": [],
      "source": [
        "from converterpro import weight_converter\n",
        "grams = weight_converter.Pounds(1.0).convert_to_grams()\n",
        "print(grams)\n"
      ]
    },
    {
      "cell_type": "markdown",
      "metadata": {
        "id": "go9sWN84FVRO"
      },
      "source": [
        "## Challenge for later: ##\n",
        "#### Write a program to go through each file in the sample_data folder and copy it to a CSV folder, JSON folder, or other folder based on the file's extension. Make sure to create the folders if they are not already there.\n",
        "<br>\n",
        "<details><summary>Click for <b>hint</b></summary>\n",
        "<p>\n",
        "You will need to import a library we've not seen yet, so either use the AI feature or look up how to copy a file in Python.\n",
        "<br>\n",
        "Use variables to build the path names for the source and destination files.\n",
        "<br>\n",
        "Confirm it worked by looking at the directories' content when you're done.\n",
        "</p>\n",
        "</details>\n",
        "\n",
        "<details><summary>Click for <b>code</b></summary>\n",
        "<p>\n",
        "\n",
        "```python\n",
        "import shutil, os\n",
        "pwd = os.getcwd() + '/sample_data'\n",
        "for file in os.listdir('sample_data'):\n",
        "  if file.endswith('.csv'):\n",
        "    path = pwd + '/csv'\n",
        "  elif file.endswith('.json'):\n",
        "    path = pwd + '/json'\n",
        "  else:\n",
        "    path = pwd + '/other'\n",
        "\n",
        "  if not os.path.exists(path):\n",
        "    os.mkdir(path)\n",
        "  shutil.copy(pwd + '/' + file, path)\n",
        "\n",
        "\n",
        "print(os.listdir(pwd + '/csv'))\n",
        "print(os.listdir(pwd + '/json'))\n",
        "print(os.listdir(pwd + '/other'))\n",
        "```\n",
        "</p>\n",
        "</details>"
      ]
    },
    {
      "cell_type": "code",
      "execution_count": null,
      "metadata": {
        "id": "51ug0AX1Fa7-"
      },
      "outputs": [],
      "source": []
    }
  ],
  "metadata": {
    "anaconda-cloud": {},
    "colab": {
      "provenance": []
    },
    "kernelspec": {
      "display_name": "Python 3 (ipykernel)",
      "language": "python",
      "name": "python3"
    },
    "language_info": {
      "codemirror_mode": {
        "name": "ipython",
        "version": 3
      },
      "file_extension": ".py",
      "mimetype": "text/x-python",
      "name": "python",
      "nbconvert_exporter": "python",
      "pygments_lexer": "ipython3",
      "version": "3.11.2"
    }
  },
  "nbformat": 4,
  "nbformat_minor": 0
}